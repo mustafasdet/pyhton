{
 "cells": [
  {
   "cell_type": "code",
   "execution_count": 1,
   "id": "fd4e3ab1-169a-44be-bd09-5493489ac87f",
   "metadata": {},
   "outputs": [
    {
     "name": "stdout",
     "output_type": "stream",
     "text": [
      "Help on built-in function print in module builtins:\n",
      "\n",
      "print(...)\n",
      "    print(value, ..., sep=' ', end='\\n', file=sys.stdout, flush=False)\n",
      "    \n",
      "    Prints the values to a stream, or to sys.stdout by default.\n",
      "    Optional keyword arguments:\n",
      "    file:  a file-like object (stream); defaults to the current sys.stdout.\n",
      "    sep:   string inserted between values, default a space.\n",
      "    end:   string appended after the last value, default a newline.\n",
      "    flush: whether to forcibly flush the stream.\n",
      "\n"
     ]
    }
   ],
   "source": [
    "help(print)"
   ]
  },
  {
   "cell_type": "code",
   "execution_count": 2,
   "id": "4dabd924-2b57-4fe2-8d46-5979a2d9c966",
   "metadata": {},
   "outputs": [],
   "source": [
    "# print(value, ..., sep=' ', end='\\n', file=sys.stdout, flush=False)"
   ]
  },
  {
   "cell_type": "code",
   "execution_count": 4,
   "id": "ef67b773-7c70-490a-bdea-503026287131",
   "metadata": {},
   "outputs": [
    {
     "name": "stdout",
     "output_type": "stream",
     "text": [
      "Ahmet Mehmet 123\tAli     Veli\n"
     ]
    }
   ],
   "source": [
    "print(\"Ahmet\",\"Mehmet\",123,end='\\t')\n",
    "print(\"Ali\",\"Veli\",sep='     ',end='\\n')"
   ]
  },
  {
   "cell_type": "code",
   "execution_count": 5,
   "id": "e3c47e90-4f7b-4a7b-960e-0e9f8b8318e1",
   "metadata": {},
   "outputs": [
    {
     "name": "stdout",
     "output_type": "stream",
     "text": [
      "Ahmet Mehmet 254\n"
     ]
    }
   ],
   "source": [
    "print(\"Ahmet\",\"Mehmet\",254)"
   ]
  },
  {
   "cell_type": "code",
   "execution_count": 6,
   "id": "b2661921-2e71-45c9-8e9d-296bfaae7250",
   "metadata": {},
   "outputs": [
    {
     "name": "stdout",
     "output_type": "stream",
     "text": [
      "Benim adım\tAhmet, Yaşım 35\n"
     ]
    }
   ],
   "source": [
    "print(\"Benim adım\\t{}, Yaşım {}\".format(\"Ahmet\",35))"
   ]
  },
  {
   "cell_type": "code",
   "execution_count": 14,
   "id": "3301a46f-93f0-41e8-890f-ba1eb190f57c",
   "metadata": {},
   "outputs": [
    {
     "ename": "SyntaxError",
     "evalue": "unexpected character after line continuation character (2072928992.py, line 1)",
     "output_type": "error",
     "traceback": [
      "\u001b[1;36m  Input \u001b[1;32mIn [14]\u001b[1;36m\u001b[0m\n\u001b[1;33m    print(\"Ahmet\",\"Mehmet\",\"123\"\\t )\u001b[0m\n\u001b[1;37m                                 ^\u001b[0m\n\u001b[1;31mSyntaxError\u001b[0m\u001b[1;31m:\u001b[0m unexpected character after line continuation character\n"
     ]
    }
   ],
   "source": [
    "print(\"Ahmet\",\"Mehmet\",123)\n",
    "print(\"Ali\",\"Veli\")\n",
    "print(123,456,789)"
   ]
  },
  {
   "cell_type": "code",
   "execution_count": 17,
   "id": "be1b05ef-c0e7-41ed-8f92-4c2fcae22bce",
   "metadata": {},
   "outputs": [
    {
     "name": "stdout",
     "output_type": "stream",
     "text": [
      "Benim adımAhmet,\t Yaşım 35\n"
     ]
    }
   ],
   "source": [
    "print(\"Benim adım{},\\t Yaşım {}\".format(\"Ahmet\",35))"
   ]
  },
  {
   "cell_type": "code",
   "execution_count": 19,
   "id": "ef3c5db2-186d-44c6-bc32-73477456e8f8",
   "metadata": {},
   "outputs": [
    {
     "name": "stdout",
     "output_type": "stream",
     "text": [
      "Benim adım  Ahmet,   Yaşım 35\n"
     ]
    }
   ],
   "source": [
    "print(\"Benim adım  {ad},   Yaşım {yas}\".format(ad=\"Ahmet\",yas=35))"
   ]
  },
  {
   "cell_type": "code",
   "execution_count": 1,
   "id": "f16cd219-6d1a-4f9f-93fa-67a5a7e5d1e8",
   "metadata": {},
   "outputs": [
    {
     "name": "stdout",
     "output_type": "stream",
     "text": [
      "Benim adım  Ahmet,   Yaşım 35\n"
     ]
    }
   ],
   "source": [
    "ad=\"Ahmet\"\n",
    "yas=35\n",
    "print(\"Benim adım  {0},   Yaşım {1}\".format(ad,yas))"
   ]
  },
  {
   "cell_type": "code",
   "execution_count": 27,
   "id": "2fae4570-44e8-4507-8043-8be691eabac3",
   "metadata": {},
   "outputs": [
    {
     "name": "stdout",
     "output_type": "stream",
     "text": [
      "numara  10\n"
     ]
    }
   ],
   "source": [
    "print(\"numara  %d\" %10.55) # %d tamsayı, %s sitring, %f float"
   ]
  },
  {
   "cell_type": "code",
   "execution_count": 43,
   "id": "dc90a648-052a-4348-97ef-4f00744e4efd",
   "metadata": {},
   "outputs": [
    {
     "name": "stdout",
     "output_type": "stream",
     "text": [
      "numara  123\n"
     ]
    }
   ],
   "source": [
    "print(\"numara  %s\" %\"123\") # %d tamsayı, %s sitring, %f float"
   ]
  },
  {
   "cell_type": "code",
   "execution_count": 32,
   "id": "cd6e2dbd-932f-4340-94fb-256f411d0ace",
   "metadata": {},
   "outputs": [
    {
     "name": "stdout",
     "output_type": "stream",
     "text": [
      "numara  125.000000\n"
     ]
    }
   ],
   "source": [
    "print(\"numara cc %f\" %125) "
   ]
  },
  {
   "cell_type": "code",
   "execution_count": 37,
   "id": "9ca7520a-a1f9-4977-9815-979fa731b7ca",
   "metadata": {},
   "outputs": [
    {
     "name": "stdout",
     "output_type": "stream",
     "text": [
      "numara      125.1254870000\n"
     ]
    }
   ],
   "source": [
    "print(\"numara%20.10f\" %125.125487) "
   ]
  },
  {
   "cell_type": "code",
   "execution_count": 41,
   "id": "885ff4cc-00df-4e9f-8fb4-de19a74bd84f",
   "metadata": {},
   "outputs": [
    {
     "name": "stdout",
     "output_type": "stream",
     "text": [
      "                       Merhaba\n"
     ]
    }
   ],
   "source": [
    "print(\"{0:>30}\".format(\"Merhaba\",\"Sezai\"))"
   ]
  },
  {
   "cell_type": "code",
   "execution_count": 44,
   "id": "5248334f-d359-480e-850c-5ca59e97bf80",
   "metadata": {},
   "outputs": [
    {
     "name": "stdout",
     "output_type": "stream",
     "text": [
      "           Merhaba            \n"
     ]
    }
   ],
   "source": [
    "print(\"{:^30}\".format(\"Merhaba\"))"
   ]
  },
  {
   "cell_type": "code",
   "execution_count": 52,
   "id": "0bf7435a-a899-4187-bcd0-ca184201b489",
   "metadata": {},
   "outputs": [
    {
     "name": "stdout",
     "output_type": "stream",
     "text": [
      "***********Merhaba************\n"
     ]
    }
   ],
   "source": [
    "print(\"{0:*^30}\".format(\"Merhaba\"))"
   ]
  },
  {
   "cell_type": "code",
   "execution_count": 53,
   "id": "d2ddb695-6c8d-4667-9b29-b8b59d0d98a1",
   "metadata": {},
   "outputs": [
    {
     "name": "stdout",
     "output_type": "stream",
     "text": [
      "Merhaba                       \n"
     ]
    }
   ],
   "source": [
    "print(\"{0:<30}\".format(\"Merhaba\",\"Sezai\"))"
   ]
  },
  {
   "cell_type": "code",
   "execution_count": 58,
   "id": "66dff2f3-98cf-443c-ae9d-deec677e6f1b",
   "metadata": {},
   "outputs": [
    {
     "name": "stdout",
     "output_type": "stream",
     "text": [
      ".......#####........\n"
     ]
    }
   ],
   "source": [
    "print((\"#\"*5).center(20,\".\"))"
   ]
  },
  {
   "cell_type": "code",
   "execution_count": 5,
   "id": "060b16e1-c1f3-4750-9945-409a89c35f02",
   "metadata": {},
   "outputs": [
    {
     "name": "stdout",
     "output_type": "stream",
     "text": [
      "100         123456789987654321\n"
     ]
    }
   ],
   "source": [
    "print(\"{0:3}  {1:25}\".format(100,123456789987654321))"
   ]
  },
  {
   "cell_type": "code",
   "execution_count": 65,
   "id": "66628223-6f2f-486a-b296-bbbb8d9d8e7a",
   "metadata": {},
   "outputs": [],
   "source": [
    "a=\"Ahmet\".rjust(20)"
   ]
  },
  {
   "cell_type": "code",
   "execution_count": 66,
   "id": "75b7832b-d1eb-4e8b-9580-e6b53f47a0ca",
   "metadata": {},
   "outputs": [
    {
     "data": {
      "text/plain": [
       "'               Ahmet'"
      ]
     },
     "execution_count": 66,
     "metadata": {},
     "output_type": "execute_result"
    }
   ],
   "source": [
    "a"
   ]
  },
  {
   "cell_type": "code",
   "execution_count": 68,
   "id": "7c290a08-4f25-47a0-880d-cdaf4eb44245",
   "metadata": {},
   "outputs": [
    {
     "data": {
      "text/plain": [
       "'Ahmet               '"
      ]
     },
     "execution_count": 68,
     "metadata": {},
     "output_type": "execute_result"
    }
   ],
   "source": [
    "a=\"Ahmet\".ljust(20)\n",
    "a"
   ]
  },
  {
   "cell_type": "code",
   "execution_count": 69,
   "id": "d5756f74-da70-4bbf-94bd-dd05e0d6d121",
   "metadata": {},
   "outputs": [
    {
     "data": {
      "text/plain": [
       "'000012'"
      ]
     },
     "execution_count": 69,
     "metadata": {},
     "output_type": "execute_result"
    }
   ],
   "source": [
    "\"12\".zfill(6)"
   ]
  },
  {
   "cell_type": "code",
   "execution_count": 70,
   "id": "125adcb3-698c-48d6-a5b9-5f4b79791c49",
   "metadata": {},
   "outputs": [
    {
     "name": "stdout",
     "output_type": "stream",
     "text": [
      "Ahmet  Gel bir sanatçıdır.\n"
     ]
    }
   ],
   "source": [
    "# f- string\n",
    "name= \"Ahmet\"\n",
    "surname= \"Gel\"\n",
    "mesage=f\"{name}  {surname} bir sanatçıdır.\"\n",
    "print(mesage)"
   ]
  },
  {
   "cell_type": "code",
   "execution_count": 71,
   "id": "d9bed6de-f8c4-490b-b182-5427f2d7234a",
   "metadata": {},
   "outputs": [
    {
     "name": "stdout",
     "output_type": "stream",
     "text": [
      "Ahmet  Gel bir sanatçıdır.\n"
     ]
    }
   ],
   "source": [
    "print(f\"{name}  {surname} bir sanatçıdır.\")"
   ]
  },
  {
   "cell_type": "code",
   "execution_count": 73,
   "id": "96d9cf06-ded4-4c47-9438-2146caf50cbc",
   "metadata": {},
   "outputs": [
    {
     "name": "stdout",
     "output_type": "stream",
     "text": [
      "'Ahmet  Gel' bir sanatçıdır.\n"
     ]
    }
   ],
   "source": [
    "print(f\"'{name}  {surname}' bir sanatçıdır.\")"
   ]
  },
  {
   "cell_type": "code",
   "execution_count": 74,
   "id": "e0747eeb-095e-409b-89b3-7a5bcc3a7dd9",
   "metadata": {},
   "outputs": [
    {
     "name": "stdout",
     "output_type": "stream",
     "text": [
      "\"Ahmet  Gel\" bir sanatçıdır.\n"
     ]
    }
   ],
   "source": [
    "print(f'\"{name}  {surname}\" bir sanatçıdır.')"
   ]
  },
  {
   "cell_type": "code",
   "execution_count": 75,
   "id": "b3be908d-6168-41c1-aef6-97a4d8cd4064",
   "metadata": {},
   "outputs": [
    {
     "name": "stdout",
     "output_type": "stream",
     "text": [
      "\"Ahmet  Gel\" bir sanatçıdır.\n"
     ]
    }
   ],
   "source": [
    "# \\ kaçış dizini\n",
    "print(f\"\\\"{name}  {surname}\\\" bir sanatçıdır.\")"
   ]
  },
  {
   "cell_type": "code",
   "execution_count": 79,
   "id": "86f975e0-bf78-4306-a539-529f8698fdf5",
   "metadata": {},
   "outputs": [
    {
     "name": "stdout",
     "output_type": "stream",
     "text": [
      "\"Ahmet  Gel\" bir sanatçıdır.\n"
     ]
    }
   ],
   "source": [
    "# \\ kullanınca komut alt satırı da dikkate alıyor. \n",
    "print(f\"\\\"{name}  {surname}\\\" bir \\\n",
    "sanatçıdır.\")"
   ]
  },
  {
   "cell_type": "code",
   "execution_count": 82,
   "id": "bf172243-6e69-4eb0-9f7b-2ebfcad2af44",
   "metadata": {},
   "outputs": [
    {
     "name": "stdout",
     "output_type": "stream",
     "text": [
      "\"Ahmet  Gel\" bir\n",
      "sanatçıdır.\n"
     ]
    }
   ],
   "source": [
    "print(f\"\"\"\\\"{name}  {surname}\\\" bir\n",
    "sanatçıdır.\"\"\")"
   ]
  },
  {
   "cell_type": "code",
   "execution_count": 87,
   "id": "c1e7dd20-6cb9-43c8-a823-699bdd97b359",
   "metadata": {},
   "outputs": [
    {
     "name": "stdout",
     "output_type": "stream",
     "text": [
      "\"Ahme        G   \" bir sanatçıdır.\n"
     ]
    }
   ],
   "source": [
    "print(f\"\\\"{name:10.4}  {surname:4.1}\\\" bir \\\n",
    "sanatçıdır.\")"
   ]
  },
  {
   "cell_type": "code",
   "execution_count": 93,
   "id": "02de3ce3-92d9-4c62-b545-6e8b956fcd19",
   "metadata": {},
   "outputs": [
    {
     "name": "stdout",
     "output_type": "stream",
     "text": [
      "Pi saısı : 3.14\n"
     ]
    }
   ],
   "source": [
    "pi=3.14151820255889\n",
    "print(f\"Pi saısı : {pi:.3}\")"
   ]
  },
  {
   "cell_type": "code",
   "execution_count": 94,
   "id": "71f9c908-2d46-4480-83e1-a561a37847d4",
   "metadata": {},
   "outputs": [
    {
     "name": "stdout",
     "output_type": "stream",
     "text": [
      "Sayı binary sistem 10000\n"
     ]
    }
   ],
   "source": [
    "number=16\n",
    "print(f\"Sayı binary sistem {number:b}\")"
   ]
  },
  {
   "cell_type": "code",
   "execution_count": 95,
   "id": "fde4a7ea-3781-4fc3-a682-d50eff17a390",
   "metadata": {},
   "outputs": [
    {
     "name": "stdout",
     "output_type": "stream",
     "text": [
      "Sayı sekizli sistem 0o20\n"
     ]
    }
   ],
   "source": [
    "number=16      # #x onaltılı #o sekizli\n",
    "print(f\"Sayı sekizli sistem {number:#o}\")"
   ]
  },
  {
   "cell_type": "code",
   "execution_count": 98,
   "id": "6ce20d03-d02a-4902-b228-6ddc69bcaff8",
   "metadata": {},
   "outputs": [
    {
     "name": "stdout",
     "output_type": "stream",
     "text": [
      "Hello  Hello  Hello  Hello  Hello  Hello  Hello  Hello  Hello  Hello  \n"
     ]
    }
   ],
   "source": [
    "print(\"Hello  \"*10)"
   ]
  },
  {
   "cell_type": "code",
   "execution_count": 99,
   "id": "d6144802-dbaa-4915-9c67-9947539f8bb7",
   "metadata": {},
   "outputs": [
    {
     "name": "stdout",
     "output_type": "stream",
     "text": [
      "121212121212121212121212\n"
     ]
    }
   ],
   "source": [
    "sayi=\"12\"\n",
    "print(sayi*12)"
   ]
  },
  {
   "cell_type": "code",
   "execution_count": 102,
   "id": "5654e9d7-d010-4b32-92ea-d5ff55b03f4b",
   "metadata": {},
   "outputs": [],
   "source": [
    "sayi0=5;sayi=15"
   ]
  },
  {
   "cell_type": "code",
   "execution_count": 104,
   "id": "5831570b-2584-4247-9541-cc36cc9861a2",
   "metadata": {},
   "outputs": [
    {
     "data": {
      "text/plain": [
       "15"
      ]
     },
     "execution_count": 104,
     "metadata": {},
     "output_type": "execute_result"
    }
   ],
   "source": [
    "sayi"
   ]
  },
  {
   "cell_type": "code",
   "execution_count": 105,
   "id": "86ed6e72-7456-4d65-99d3-07348cc6ad50",
   "metadata": {},
   "outputs": [],
   "source": [
    "st='Python'"
   ]
  },
  {
   "cell_type": "code",
   "execution_count": 106,
   "id": "f088209a-c230-4981-b834-c46bc30d4c69",
   "metadata": {},
   "outputs": [
    {
     "data": {
      "text/plain": [
       "'o'"
      ]
     },
     "execution_count": 106,
     "metadata": {},
     "output_type": "execute_result"
    }
   ],
   "source": [
    "st[4]"
   ]
  },
  {
   "cell_type": "code",
   "execution_count": 108,
   "id": "a875671c-c04f-47f7-a546-5231d2b99472",
   "metadata": {},
   "outputs": [
    {
     "name": "stdout",
     "output_type": "stream",
     "text": [
      "P\n",
      "y\n",
      "t\n",
      "h\n",
      "o\n",
      "n\n"
     ]
    }
   ],
   "source": [
    "for i in st:\n",
    "    print(i)"
   ]
  },
  {
   "cell_type": "code",
   "execution_count": 114,
   "id": "ed2ec200-67aa-4c17-8bfa-31f28ac82e44",
   "metadata": {},
   "outputs": [
    {
     "name": "stdout",
     "output_type": "stream",
     "text": [
      "P\ty\tt\th\to\tn\t\n",
      "azz\n"
     ]
    }
   ],
   "source": [
    "for i in st:\n",
    "    print(i,end='\\t')\n",
    "print()\n",
    "print(\"azz\")"
   ]
  },
  {
   "cell_type": "code",
   "execution_count": 115,
   "id": "45aade1f-0c56-43f6-b2f4-1af714911ace",
   "metadata": {},
   "outputs": [
    {
     "name": "stdout",
     "output_type": "stream",
     "text": [
      "Ahmet\n",
      "Mehmet\n",
      "Ali\n"
     ]
    }
   ],
   "source": [
    "liste=[\"Ahmet\", \"Mehmet\",\"Ali\"]\n",
    "for isim in liste:\n",
    "    print(isim)"
   ]
  },
  {
   "cell_type": "code",
   "execution_count": 116,
   "id": "6835fab4-dd1c-4c54-83a1-89ebb34b7522",
   "metadata": {},
   "outputs": [
    {
     "data": {
      "text/plain": [
       "'Python'"
      ]
     },
     "execution_count": 116,
     "metadata": {},
     "output_type": "execute_result"
    }
   ],
   "source": [
    "st"
   ]
  },
  {
   "cell_type": "code",
   "execution_count": 119,
   "id": "14e2a99e-f6a3-4517-be4e-27d045fe7913",
   "metadata": {},
   "outputs": [
    {
     "name": "stdout",
     "output_type": "stream",
     "text": [
      "PYTHON\n"
     ]
    }
   ],
   "source": [
    "print(st.upper())"
   ]
  },
  {
   "cell_type": "code",
   "execution_count": 123,
   "id": "1dded9b1-80b0-43a3-b589-d772f84eb0b5",
   "metadata": {},
   "outputs": [],
   "source": [
    "st = st.upper()"
   ]
  },
  {
   "cell_type": "code",
   "execution_count": 124,
   "id": "90aed991-4fa9-4555-aae0-1b96722060fc",
   "metadata": {},
   "outputs": [
    {
     "data": {
      "text/plain": [
       "'PYTHON'"
      ]
     },
     "execution_count": 124,
     "metadata": {},
     "output_type": "execute_result"
    }
   ],
   "source": [
    "st"
   ]
  },
  {
   "cell_type": "code",
   "execution_count": 125,
   "id": "61ff505b-fdd5-4f66-bb39-4c149a8706a0",
   "metadata": {},
   "outputs": [
    {
     "name": "stdout",
     "output_type": "stream",
     "text": [
      "python\n"
     ]
    }
   ],
   "source": [
    "print(st.lower())"
   ]
  },
  {
   "cell_type": "code",
   "execution_count": 126,
   "id": "f0b7be46-681f-496d-9f6e-1be88dc46062",
   "metadata": {},
   "outputs": [
    {
     "data": {
      "text/plain": [
       "'PYTHON'"
      ]
     },
     "execution_count": 126,
     "metadata": {},
     "output_type": "execute_result"
    }
   ],
   "source": [
    "st"
   ]
  },
  {
   "cell_type": "code",
   "execution_count": 127,
   "id": "cd3901bd-1dc9-4c43-8565-451acb774660",
   "metadata": {},
   "outputs": [],
   "source": [
    "st = st+\"    ders     \" "
   ]
  },
  {
   "cell_type": "code",
   "execution_count": 128,
   "id": "2d286a18-0f62-4070-b1ff-c11aa341faaa",
   "metadata": {},
   "outputs": [
    {
     "data": {
      "text/plain": [
       "'PYTHON    ders     '"
      ]
     },
     "execution_count": 128,
     "metadata": {},
     "output_type": "execute_result"
    }
   ],
   "source": [
    "st"
   ]
  },
  {
   "cell_type": "code",
   "execution_count": 129,
   "id": "51ea6fa5-4c3e-4cda-8092-cce70a1ca8bd",
   "metadata": {},
   "outputs": [],
   "source": [
    "st = st + \"    ders     \" "
   ]
  },
  {
   "cell_type": "code",
   "execution_count": 130,
   "id": "4934a3c2-6380-4cbb-84d7-dba5a1564d8e",
   "metadata": {},
   "outputs": [
    {
     "data": {
      "text/plain": [
       "'PYTHON    ders         ders     '"
      ]
     },
     "execution_count": 130,
     "metadata": {},
     "output_type": "execute_result"
    }
   ],
   "source": [
    "st"
   ]
  },
  {
   "cell_type": "code",
   "execution_count": 131,
   "id": "1ba41629-98e3-4a63-9106-ac519e174b49",
   "metadata": {},
   "outputs": [
    {
     "data": {
      "text/plain": [
       "['PYTHON', 'ders', 'ders']"
      ]
     },
     "execution_count": 131,
     "metadata": {},
     "output_type": "execute_result"
    }
   ],
   "source": [
    "st.split()"
   ]
  },
  {
   "cell_type": "code",
   "execution_count": 132,
   "id": "6d4024c2-ed51-4f20-b02e-3ec93cf419c3",
   "metadata": {},
   "outputs": [
    {
     "data": {
      "text/plain": [
       "'PYTHON    ders         ders     '"
      ]
     },
     "execution_count": 132,
     "metadata": {},
     "output_type": "execute_result"
    }
   ],
   "source": [
    "st"
   ]
  },
  {
   "cell_type": "code",
   "execution_count": 133,
   "id": "1750fc47-f90b-415a-8bd0-b9c139a4fb9e",
   "metadata": {},
   "outputs": [
    {
     "data": {
      "text/plain": [
       "'python    DERS         DERS     '"
      ]
     },
     "execution_count": 133,
     "metadata": {},
     "output_type": "execute_result"
    }
   ],
   "source": [
    "st.swapcase()"
   ]
  },
  {
   "cell_type": "code",
   "execution_count": 134,
   "id": "fa5c6d8c-cec5-46b8-9e9d-3d6f1b5f26bd",
   "metadata": {},
   "outputs": [],
   "source": [
    "st='Python'"
   ]
  },
  {
   "cell_type": "code",
   "execution_count": 135,
   "id": "0538432c-8e2d-493f-832b-469f46f93803",
   "metadata": {},
   "outputs": [
    {
     "name": "stdout",
     "output_type": "stream",
     "text": [
      "['Py', 'hon']\n"
     ]
    }
   ],
   "source": [
    "print(st.split('t'))"
   ]
  },
  {
   "cell_type": "code",
   "execution_count": 137,
   "id": "fcdeca30-b9f6-459b-9399-a7d9e86deed6",
   "metadata": {},
   "outputs": [],
   "source": [
    "st='Python   '"
   ]
  },
  {
   "cell_type": "code",
   "execution_count": 138,
   "id": "253f2946-5562-4996-9ffc-0807d9f1ec1f",
   "metadata": {},
   "outputs": [
    {
     "data": {
      "text/plain": [
       "'Python   '"
      ]
     },
     "execution_count": 138,
     "metadata": {},
     "output_type": "execute_result"
    }
   ],
   "source": [
    "st"
   ]
  },
  {
   "cell_type": "code",
   "execution_count": 139,
   "id": "fd79ca55-1bfa-493e-bf35-4a322c839ed7",
   "metadata": {},
   "outputs": [
    {
     "name": "stdout",
     "output_type": "stream",
     "text": [
      "['P', 'y', 't', 'h', 'o', 'n', ' ', ' ', ' ']\n"
     ]
    }
   ],
   "source": [
    "print(list(st))"
   ]
  },
  {
   "cell_type": "code",
   "execution_count": 141,
   "id": "0de6c4a3-9217-4962-9ed8-2dc7bee05b2b",
   "metadata": {},
   "outputs": [
    {
     "data": {
      "text/plain": [
       "'Python'"
      ]
     },
     "execution_count": 141,
     "metadata": {},
     "output_type": "execute_result"
    }
   ],
   "source": [
    "st.strip()"
   ]
  },
  {
   "cell_type": "code",
   "execution_count": 142,
   "id": "f2242a9f-22c3-405d-85ed-ee6f498b3068",
   "metadata": {},
   "outputs": [
    {
     "data": {
      "text/plain": [
       "'Python   '"
      ]
     },
     "execution_count": 142,
     "metadata": {},
     "output_type": "execute_result"
    }
   ],
   "source": [
    "st"
   ]
  },
  {
   "cell_type": "code",
   "execution_count": 143,
   "id": "fac702e2-0b44-46f5-88b7-b78f1f87be78",
   "metadata": {},
   "outputs": [
    {
     "name": "stdout",
     "output_type": "stream",
     "text": [
      "['P', 'y', 't', 'h', 'o', 'n']\n"
     ]
    }
   ],
   "source": [
    "print(list(st.strip()))"
   ]
  },
  {
   "cell_type": "code",
   "execution_count": 144,
   "id": "3cc356e9-16dd-4e3f-acd6-a215063cf5e9",
   "metadata": {},
   "outputs": [
    {
     "name": "stdout",
     "output_type": "stream",
     "text": [
      "P y t h o n      \n"
     ]
    }
   ],
   "source": [
    "print(*st)"
   ]
  },
  {
   "cell_type": "code",
   "execution_count": 145,
   "id": "e50a5ada-01db-41b7-b4da-439759696279",
   "metadata": {},
   "outputs": [
    {
     "name": "stdout",
     "output_type": "stream",
     "text": [
      "['P', 'y', 't', 'h', 'o', 'n', ' ', ' ', ' ']\n"
     ]
    }
   ],
   "source": [
    "print([*st])"
   ]
  },
  {
   "cell_type": "code",
   "execution_count": 148,
   "id": "17db4761-ff62-45ce-83c8-2af2decce131",
   "metadata": {},
   "outputs": [
    {
     "name": "stdout",
     "output_type": "stream",
     "text": [
      "['Bug', 'n g', 'nlerdÜn C', 'uma']\n"
     ]
    }
   ],
   "source": [
    "metin=\"Bugün günlerdÜn Cüuma\"\n",
    "print(metin.split(\"ü\"))"
   ]
  },
  {
   "cell_type": "code",
   "execution_count": 149,
   "id": "b5bc05a9-cc02-46da-a451-123dcb2eeda8",
   "metadata": {},
   "outputs": [
    {
     "data": {
      "text/plain": [
       "'Python   '"
      ]
     },
     "execution_count": 149,
     "metadata": {},
     "output_type": "execute_result"
    }
   ],
   "source": [
    "st"
   ]
  },
  {
   "cell_type": "code",
   "execution_count": 150,
   "id": "66293a59-15fc-4248-bc79-44c822004efd",
   "metadata": {},
   "outputs": [
    {
     "data": {
      "text/plain": [
       "'t'"
      ]
     },
     "execution_count": 150,
     "metadata": {},
     "output_type": "execute_result"
    }
   ],
   "source": [
    "st[2]"
   ]
  },
  {
   "cell_type": "code",
   "execution_count": 151,
   "id": "7877cdf8-a962-4a69-8811-64bbdd2cf08e",
   "metadata": {},
   "outputs": [
    {
     "ename": "TypeError",
     "evalue": "'str' object does not support item assignment",
     "output_type": "error",
     "traceback": [
      "\u001b[1;31m---------------------------------------------------------------------------\u001b[0m",
      "\u001b[1;31mTypeError\u001b[0m                                 Traceback (most recent call last)",
      "Input \u001b[1;32mIn [151]\u001b[0m, in \u001b[0;36m<cell line: 1>\u001b[1;34m()\u001b[0m\n\u001b[1;32m----> 1\u001b[0m st[\u001b[38;5;241m2\u001b[39m]\u001b[38;5;241m=\u001b[39m\u001b[38;5;124m\"\u001b[39m\u001b[38;5;124mK\u001b[39m\u001b[38;5;124m\"\u001b[39m\n",
      "\u001b[1;31mTypeError\u001b[0m: 'str' object does not support item assignment"
     ]
    }
   ],
   "source": [
    "st[2]=\"K\" # immutable"
   ]
  },
  {
   "cell_type": "code",
   "execution_count": 152,
   "id": "04b73d81-8489-4839-8237-df6521a12a6f",
   "metadata": {},
   "outputs": [],
   "source": [
    "st=list(st.strip())"
   ]
  },
  {
   "cell_type": "code",
   "execution_count": 153,
   "id": "96ce4f94-d00c-4a28-900e-ec0cc0b84002",
   "metadata": {},
   "outputs": [
    {
     "data": {
      "text/plain": [
       "['P', 'y', 't', 'h', 'o', 'n']"
      ]
     },
     "execution_count": 153,
     "metadata": {},
     "output_type": "execute_result"
    }
   ],
   "source": [
    "st"
   ]
  },
  {
   "cell_type": "code",
   "execution_count": 154,
   "id": "089c7017-9068-4388-8a78-c6923f893326",
   "metadata": {},
   "outputs": [
    {
     "data": {
      "text/plain": [
       "'t'"
      ]
     },
     "execution_count": 154,
     "metadata": {},
     "output_type": "execute_result"
    }
   ],
   "source": [
    "st[2]"
   ]
  },
  {
   "cell_type": "code",
   "execution_count": 155,
   "id": "eb6ad2fa-7912-47d4-8a1b-3215084be472",
   "metadata": {},
   "outputs": [],
   "source": [
    "st[2]=\"K\""
   ]
  },
  {
   "cell_type": "code",
   "execution_count": 156,
   "id": "6a42230b-0120-43ee-9182-dcd2e74a3744",
   "metadata": {},
   "outputs": [
    {
     "data": {
      "text/plain": [
       "['P', 'y', 'K', 'h', 'o', 'n']"
      ]
     },
     "execution_count": 156,
     "metadata": {},
     "output_type": "execute_result"
    }
   ],
   "source": [
    "st"
   ]
  },
  {
   "cell_type": "code",
   "execution_count": 157,
   "id": "ee218756-8363-4c5d-aee0-fa9f9dd6ca77",
   "metadata": {},
   "outputs": [
    {
     "data": {
      "text/plain": [
       "['K', 'h', 'o']"
      ]
     },
     "execution_count": 157,
     "metadata": {},
     "output_type": "execute_result"
    }
   ],
   "source": [
    "st[2:5]"
   ]
  },
  {
   "cell_type": "code",
   "execution_count": 158,
   "id": "bfc4a4a8-18ae-4807-b547-0b9b651be743",
   "metadata": {},
   "outputs": [],
   "source": [
    "metin=\"Pythyon öğryenmyek zevykliydir.\""
   ]
  },
  {
   "cell_type": "code",
   "execution_count": 159,
   "id": "8d0265e9-4d0b-4990-966a-3badeff917f5",
   "metadata": {},
   "outputs": [
    {
     "name": "stdout",
     "output_type": "stream",
     "text": [
      "PYTHYON ÖĞRYENMYEK ZEVYKLIYDIR.\n"
     ]
    }
   ],
   "source": [
    "print(metin.upper())"
   ]
  },
  {
   "cell_type": "code",
   "execution_count": 160,
   "id": "a00109a1-7b2e-4c4a-8438-c7ea9d69382c",
   "metadata": {},
   "outputs": [
    {
     "name": "stdout",
     "output_type": "stream",
     "text": [
      "pythyon öğryenmyek zevykliydir.\n"
     ]
    }
   ],
   "source": [
    "print(metin.lower())"
   ]
  },
  {
   "cell_type": "code",
   "execution_count": 161,
   "id": "d67ee29b-4f2d-4b6e-b281-435aa963924a",
   "metadata": {},
   "outputs": [
    {
     "name": "stdout",
     "output_type": "stream",
     "text": [
      "Pythyon Öğryenmyek Zevykliydir.\n"
     ]
    }
   ],
   "source": [
    "print(metin.title())"
   ]
  },
  {
   "cell_type": "code",
   "execution_count": 162,
   "id": "73881e8b-4153-459a-aa5e-f3af7c616324",
   "metadata": {},
   "outputs": [
    {
     "data": {
      "text/plain": [
       "'Pythyon öğryenmyek zevykliydir.'"
      ]
     },
     "execution_count": 162,
     "metadata": {},
     "output_type": "execute_result"
    }
   ],
   "source": [
    "metin.capitalize()"
   ]
  },
  {
   "cell_type": "code",
   "execution_count": 164,
   "id": "60bba454-ecaa-4f21-bdd7-fcf5c0b7700d",
   "metadata": {},
   "outputs": [
    {
     "data": {
      "text/plain": [
       "['P', 'th', 'on öğr', 'enmyek zevykliydir.']"
      ]
     },
     "execution_count": 164,
     "metadata": {},
     "output_type": "execute_result"
    }
   ],
   "source": [
    "metin.split(sep=\"y\",maxsplit=3)"
   ]
  },
  {
   "cell_type": "code",
   "execution_count": 165,
   "id": "5f1c63c1-873f-448a-af1d-6293ecc8b178",
   "metadata": {},
   "outputs": [
    {
     "data": {
      "text/plain": [
       "['P', 'th', 'on öğr', 'enmyek zevykliydir.']"
      ]
     },
     "execution_count": 165,
     "metadata": {},
     "output_type": "execute_result"
    }
   ],
   "source": [
    "metin.split(\"y\",3)"
   ]
  },
  {
   "cell_type": "code",
   "execution_count": 166,
   "id": "734f956f-89ba-4e63-a5a7-31d9483574cc",
   "metadata": {},
   "outputs": [
    {
     "name": "stdout",
     "output_type": "stream",
     "text": [
      "True False False\n"
     ]
    }
   ],
   "source": [
    "a=True\n",
    "b=False\n",
    "zz= \"False\"\n",
    "print(a,b,zz)"
   ]
  },
  {
   "cell_type": "code",
   "execution_count": 168,
   "id": "4f359a32-21c1-4b94-820d-04a073c044f8",
   "metadata": {},
   "outputs": [
    {
     "data": {
      "text/plain": [
       "bool"
      ]
     },
     "execution_count": 168,
     "metadata": {},
     "output_type": "execute_result"
    }
   ],
   "source": [
    "type(b)"
   ]
  },
  {
   "cell_type": "code",
   "execution_count": 170,
   "id": "dd8a8d01-82b9-4ab5-a515-3909703e44b7",
   "metadata": {},
   "outputs": [
    {
     "name": "stdout",
     "output_type": "stream",
     "text": [
      "<class 'str'>\n"
     ]
    }
   ],
   "source": [
    "print(type(zz))"
   ]
  },
  {
   "cell_type": "code",
   "execution_count": 178,
   "id": "1f3100f6-dc0d-47f1-a79c-d00bd387aa67",
   "metadata": {},
   "outputs": [],
   "source": [
    "x=5;y=8"
   ]
  },
  {
   "cell_type": "code",
   "execution_count": 176,
   "id": "95f3b915-b409-486f-90e8-771fbe3f86d6",
   "metadata": {},
   "outputs": [],
   "source": [
    "x,y=10,20"
   ]
  },
  {
   "cell_type": "code",
   "execution_count": 179,
   "id": "211735f9-b094-491a-8916-11a0cd6c8cae",
   "metadata": {},
   "outputs": [
    {
     "data": {
      "text/plain": [
       "5"
      ]
     },
     "execution_count": 179,
     "metadata": {},
     "output_type": "execute_result"
    }
   ],
   "source": [
    "x"
   ]
  },
  {
   "cell_type": "code",
   "execution_count": 180,
   "id": "c2960c8b-17af-4cdf-ac4d-33f97357c40e",
   "metadata": {},
   "outputs": [
    {
     "data": {
      "text/plain": [
       "8"
      ]
     },
     "execution_count": 180,
     "metadata": {},
     "output_type": "execute_result"
    }
   ],
   "source": [
    "y"
   ]
  },
  {
   "cell_type": "code",
   "execution_count": 181,
   "id": "5c62dbb7-e2be-4c22-a04f-a2fb92e874fc",
   "metadata": {},
   "outputs": [
    {
     "name": "stdout",
     "output_type": "stream",
     "text": [
      "False\n"
     ]
    }
   ],
   "source": [
    "print(x==y)"
   ]
  },
  {
   "cell_type": "code",
   "execution_count": 182,
   "id": "ba6f4d76-593b-42e5-bba9-f75b3b57789f",
   "metadata": {},
   "outputs": [
    {
     "name": "stdout",
     "output_type": "stream",
     "text": [
      "True\n"
     ]
    }
   ],
   "source": [
    "print(x!=y)"
   ]
  },
  {
   "cell_type": "code",
   "execution_count": 183,
   "id": "cad3b8c4-80cf-4df5-98db-089c639389f4",
   "metadata": {},
   "outputs": [],
   "source": [
    "x=y=z=15"
   ]
  },
  {
   "cell_type": "code",
   "execution_count": 185,
   "id": "ec21afc5-1ddc-45cc-92a8-fe8431429d22",
   "metadata": {},
   "outputs": [
    {
     "name": "stdout",
     "output_type": "stream",
     "text": [
      "False\n"
     ]
    }
   ],
   "source": [
    "print(not x==y)"
   ]
  },
  {
   "cell_type": "code",
   "execution_count": 186,
   "id": "0bc70377-3b42-43ee-966d-69ff90860023",
   "metadata": {},
   "outputs": [],
   "source": [
    "liste = [1,2,3,\"4\",\"A\",True,\"True\",(1,2),[3,\"aa\"]]"
   ]
  },
  {
   "cell_type": "code",
   "execution_count": 187,
   "id": "50165b04-d75e-4388-9516-4cdb85973bc9",
   "metadata": {},
   "outputs": [
    {
     "data": {
      "text/plain": [
       "[1, 2, 3, '4', 'A', True, 'True', (1, 2), [3, 'aa']]"
      ]
     },
     "execution_count": 187,
     "metadata": {},
     "output_type": "execute_result"
    }
   ],
   "source": [
    "liste"
   ]
  },
  {
   "cell_type": "code",
   "execution_count": 188,
   "id": "a8f5a4eb-8725-4b14-818b-3b9a376c4de1",
   "metadata": {},
   "outputs": [],
   "source": [
    "liste=[\"a\",\"b\"]+liste"
   ]
  },
  {
   "cell_type": "code",
   "execution_count": 189,
   "id": "aa3f53f6-3772-4d5c-838f-665268e79fc9",
   "metadata": {},
   "outputs": [
    {
     "data": {
      "text/plain": [
       "['a', 'b', 1, 2, 3, '4', 'A', True, 'True', (1, 2), [3, 'aa']]"
      ]
     },
     "execution_count": 189,
     "metadata": {},
     "output_type": "execute_result"
    }
   ],
   "source": [
    "liste"
   ]
  },
  {
   "cell_type": "code",
   "execution_count": 190,
   "id": "8341c68f-87a2-44d5-83b6-be68658f2b2f",
   "metadata": {},
   "outputs": [],
   "source": [
    "liste.insert(4,\"dd\")"
   ]
  },
  {
   "cell_type": "code",
   "execution_count": 191,
   "id": "fe7db33d-dd0b-49a1-80d9-67faca52cd20",
   "metadata": {},
   "outputs": [
    {
     "data": {
      "text/plain": [
       "['a', 'b', 1, 2, 'dd', 3, '4', 'A', True, 'True', (1, 2), [3, 'aa']]"
      ]
     },
     "execution_count": 191,
     "metadata": {},
     "output_type": "execute_result"
    }
   ],
   "source": [
    "liste"
   ]
  },
  {
   "cell_type": "code",
   "execution_count": 192,
   "id": "c33edb95-3d81-4b2c-8335-109bc46f5100",
   "metadata": {},
   "outputs": [],
   "source": [
    "liste.append(3)"
   ]
  },
  {
   "cell_type": "code",
   "execution_count": 193,
   "id": "0d0fdc5f-1200-4fde-b6f5-a51277f295be",
   "metadata": {},
   "outputs": [
    {
     "data": {
      "text/plain": [
       "['a', 'b', 1, 2, 'dd', 3, '4', 'A', True, 'True', (1, 2), [3, 'aa'], 3]"
      ]
     },
     "execution_count": 193,
     "metadata": {},
     "output_type": "execute_result"
    }
   ],
   "source": [
    "liste"
   ]
  },
  {
   "cell_type": "code",
   "execution_count": null,
   "id": "6f153b27-89d9-4ab2-bd93-b7783bd198ee",
   "metadata": {},
   "outputs": [],
   "source": []
  }
 ],
 "metadata": {
  "kernelspec": {
   "display_name": "Python 3.8.9 64-bit",
   "language": "python",
   "name": "python3"
  },
  "language_info": {
   "codemirror_mode": {
    "name": "ipython",
    "version": 3
   },
   "file_extension": ".py",
   "mimetype": "text/x-python",
   "name": "python",
   "nbconvert_exporter": "python",
   "pygments_lexer": "ipython3",
   "version": "3.8.9"
  },
  "vscode": {
   "interpreter": {
    "hash": "31f2aee4e71d21fbe5cf8b01ff0e069b9275f58929596ceb00d14d90e3e16cd6"
   }
  }
 },
 "nbformat": 4,
 "nbformat_minor": 5
}
